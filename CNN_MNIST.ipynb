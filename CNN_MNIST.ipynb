{
  "nbformat": 4,
  "nbformat_minor": 0,
  "metadata": {
    "colab": {
      "name": "CNN_MNIST.ipynb",
      "provenance": [],
      "collapsed_sections": [],
      "authorship_tag": "ABX9TyOGQfU/IBKDG7C+7JiFvz6Z",
      "include_colab_link": true
    },
    "kernelspec": {
      "name": "python3",
      "display_name": "Python 3"
    },
    "language_info": {
      "name": "python"
    },
    "accelerator": "GPU"
  },
  "cells": [
    {
      "cell_type": "markdown",
      "metadata": {
        "id": "view-in-github",
        "colab_type": "text"
      },
      "source": [
        "<a href=\"https://colab.research.google.com/github/phuongnguyen99/Spring22_Porject_Math/blob/main/CNN_MNIST.ipynb\" target=\"_parent\"><img src=\"https://colab.research.google.com/assets/colab-badge.svg\" alt=\"Open In Colab\"/></a>"
      ]
    },
    {
      "cell_type": "code",
      "source": [
        "%tensorflow_version 2.x\n",
        "import tensorflow as tf\n",
        "device_name = tf.test.gpu_device_name()\n",
        "if device_name != '/device:GPU:0':\n",
        "  raise SystemError('GPU device not found')\n",
        "print('Found GPU at: {}'.format(device_name))"
      ],
      "metadata": {
        "colab": {
          "base_uri": "https://localhost:8080/"
        },
        "id": "gOjdJyTeCk42",
        "outputId": "71c0be20-1489-432f-f12a-cff8f8465ea4"
      },
      "execution_count": null,
      "outputs": [
        {
          "output_type": "stream",
          "name": "stdout",
          "text": [
            "Found GPU at: /device:GPU:0\n"
          ]
        }
      ]
    },
    {
      "cell_type": "code",
      "source": [
        "import os\n",
        "import tensorflow as tf\n",
        "import numpy as np\n",
        "import math\n",
        "import timeit\n",
        "import matplotlib.pyplot as plt\n",
        "\n",
        "%matplotlib inline\n",
        "\n",
        "USE_GPU = True\n",
        "\n",
        "if USE_GPU:\n",
        "    device = '/device:GPU:0'\n",
        "else:\n",
        "    device = '/cpu:0'\n",
        "\n",
        "# Constant to control how often we print when training models.\n",
        "print_every = 100\n",
        "print('Using device: ', device)"
      ],
      "metadata": {
        "colab": {
          "base_uri": "https://localhost:8080/"
        },
        "id": "tjXu0dHPCpJ2",
        "outputId": "30330aef-0c96-45ab-cc13-fa80712d1d49"
      },
      "execution_count": null,
      "outputs": [
        {
          "output_type": "stream",
          "name": "stdout",
          "text": [
            "Using device:  /device:GPU:0\n"
          ]
        }
      ]
    },
    {
      "cell_type": "markdown",
      "source": [
        "**Preprocessing MNIST dataset**"
      ],
      "metadata": {
        "id": "1StJG8hCOWP5"
      }
    },
    {
      "cell_type": "code",
      "source": [
        "from keras.datasets import mnist\n",
        "def load_mnist(num_training=59000, num_validation=1000, num_test=10000):\n",
        "    \"\"\"\n",
        "    Preprocess MMNIST data set \n",
        "    \"\"\"\n",
        "    # Load the raw MNIST dataset and use appropriate data types and shapes\n",
        "    mnist = tf.keras.datasets.mnist.load_data()\n",
        "    (X_train, y_train), (X_test, y_test) = mnist\n",
        "    X_train = np.asarray(X_train, dtype=np.float32)\n",
        "    y_train = np.asarray(y_train, dtype=np.int32).flatten()\n",
        "    X_test = np.asarray(X_test, dtype=np.float32)\n",
        "    y_test = np.asarray(y_test, dtype=np.int32).flatten()\n",
        "\n",
        "    # Subsample the data\n",
        "    mask = range(num_training, num_training + num_validation)\n",
        "    X_val = X_train[mask]\n",
        "    y_val = y_train[mask]\n",
        "    mask = range(num_training)\n",
        "    X_train = X_train[mask]\n",
        "    y_train = y_train[mask]\n",
        "    mask = range(num_test)\n",
        "    X_test = X_test[mask]\n",
        "    y_test = y_test[mask]\n",
        "\n",
        "    # Normalize the data: subtract the mean pixel and divide by std\n",
        "    mean_pixel = X_train.mean(axis=(0, 1, 2), keepdims=True)\n",
        "    std_pixel = X_train.std(axis=(0, 1, 2), keepdims=True)\n",
        "    X_train = (X_train - mean_pixel) / std_pixel\n",
        "    X_val = (X_val - mean_pixel) / std_pixel\n",
        "    X_test = (X_test - mean_pixel) / std_pixel\n",
        "\n",
        "    return X_train, y_train, X_val, y_val, X_test, y_test\n",
        "\n",
        "# NHW = (0, 1, 2)\n",
        "X_train, y_train, X_val, y_val, X_test, y_test = load_mnist()\n",
        "print('Train data shape: ', X_train.shape)\n",
        "print('Train labels shape: ', y_train.shape, y_train.dtype)\n",
        "print('Validation data shape: ', X_val.shape)\n",
        "print('Validation labels shape: ', y_val.shape)\n",
        "print('Test data shape: ', X_test.shape)\n",
        "print('Test labels shape: ', y_test.shape)"
      ],
      "metadata": {
        "colab": {
          "base_uri": "https://localhost:8080/"
        },
        "id": "UAHGzNfxDM5h",
        "outputId": "7ad3c2ae-09fd-4164-cce1-6dc55cc6cbd2"
      },
      "execution_count": null,
      "outputs": [
        {
          "output_type": "stream",
          "name": "stdout",
          "text": [
            "Downloading data from https://storage.googleapis.com/tensorflow/tf-keras-datasets/mnist.npz\n",
            "11493376/11490434 [==============================] - 0s 0us/step\n",
            "11501568/11490434 [==============================] - 0s 0us/step\n",
            "Train data shape:  (59000, 28, 28)\n",
            "Train labels shape:  (59000,) int32\n",
            "Validation data shape:  (1000, 28, 28)\n",
            "Validation labels shape:  (1000,)\n",
            "Test data shape:  (10000, 28, 28)\n",
            "Test labels shape:  (10000,)\n"
          ]
        }
      ]
    },
    {
      "cell_type": "markdown",
      "source": [
        "**Since there is no C channels in the dataset yet so we have to add C = 1 to each subsample to convolve in 4 dims (N,H,W,C)**"
      ],
      "metadata": {
        "id": "wtcioJYBNdak"
      }
    },
    {
      "cell_type": "code",
      "source": [
        "X_train = X_train.reshape((X_train.shape + (1,)))\n",
        "X_val = X_val.reshape((X_val.shape + (1,)))\n",
        "X_test = X_test.reshape((X_test.shape + (1,)))"
      ],
      "metadata": {
        "id": "b3j1H_XLUs3G"
      },
      "execution_count": null,
      "outputs": []
    },
    {
      "cell_type": "code",
      "source": [
        "class Dataset(object):\n",
        "    def __init__(self, X, y, batch_size, shuffle=False):\n",
        "        \"\"\"\n",
        "        Construct a Dataset object to iterate over data X and labels y\n",
        "        \n",
        "        Inputs:\n",
        "        - X: Numpy array of data, of any shape\n",
        "        - y: Numpy array of labels, of any shape but with y.shape[0] == X.shape[0]\n",
        "        - batch_size: Integer giving number of elements per minibatch\n",
        "        - shuffle: (optional) Boolean, whether to shuffle the data on each epoch\n",
        "        \"\"\"\n",
        "        assert X.shape[0] == y.shape[0], 'Got different numbers of data and labels'\n",
        "        self.X, self.y = X, y\n",
        "        self.batch_size, self.shuffle = batch_size, shuffle\n",
        "\n",
        "    def __iter__(self):\n",
        "        N, B = self.X.shape[0], self.batch_size\n",
        "        idxs = np.arange(N)\n",
        "        if self.shuffle:\n",
        "            np.random.shuffle(idxs)\n",
        "        return iter((self.X[i:i+B], self.y[i:i+B]) for i in range(0, N, B))\n",
        "\n",
        "\n",
        "train_dset = Dataset(X_train, y_train, batch_size=50, shuffle=True)\n",
        "val_dset = Dataset(X_val, y_val, batch_size=64, shuffle=False)\n",
        "test_dset = Dataset(X_test, y_test, batch_size=64)"
      ],
      "metadata": {
        "id": "95eoWXHnGPdG"
      },
      "execution_count": null,
      "outputs": []
    },
    {
      "cell_type": "code",
      "source": [
        "for t, (x, y) in enumerate(train_dset):\n",
        "    print(t, x.shape, y.shape)\n",
        "    if t > 5: break"
      ],
      "metadata": {
        "colab": {
          "base_uri": "https://localhost:8080/"
        },
        "id": "VQ-yyUEtHi4l",
        "outputId": "a53555b4-16ad-4a58-8108-8b757e5ef0ac"
      },
      "execution_count": null,
      "outputs": [
        {
          "output_type": "stream",
          "name": "stdout",
          "text": [
            "0 (50, 28, 28, 1) (50,)\n",
            "1 (50, 28, 28, 1) (50,)\n",
            "2 (50, 28, 28, 1) (50,)\n",
            "3 (50, 28, 28, 1) (50,)\n",
            "4 (50, 28, 28, 1) (50,)\n",
            "5 (50, 28, 28, 1) (50,)\n",
            "6 (50, 28, 28, 1) (50,)\n"
          ]
        }
      ]
    },
    {
      "cell_type": "markdown",
      "source": [
        "We use CNN to learn MNIST data set witht the following architecture: <br>\n",
        "**(CONV-RELU-BATCH-DROPOUT-MAXPOOL)*2 - FULLY CONNECTED - SOFTMAX**"
      ],
      "metadata": {
        "id": "0TVR7rbbQZGN"
      }
    },
    {
      "cell_type": "code",
      "source": [
        "class CustomConvNet(tf.keras.Model):\n",
        "    def __init__(self, channel_1, channel_2, num_classes):\n",
        "        super(CustomConvNet, self).__init__()\n",
        "        ############################################################################\n",
        "        # TODO: Construct a model that performs well on MNIST                   #\n",
        "        ############################################################################\n",
        "  \n",
        "        initializer = tf.initializers.VarianceScaling(scale=2.0)\n",
        "      \n",
        "\n",
        "        self.conv1 = tf.keras.layers.Conv2D(filters = channel_1, kernel_size = (3,3), strides = (1,1),\n",
        "                                          activation='relu',padding='valid',kernel_initializer=initializer)\n",
        "        # self.drop_out = tf.keras.layers.Dropout(rate = 0.8)\n",
        "        self.bn1 = tf.keras.layers.BatchNormalization()\n",
        "        self.drop_out1 = tf.keras.layers.Dropout(rate = 0.2)\n",
        "        self.max_pool1 = tf.keras.layers.MaxPool2D(pool_size=(2, 2))\n",
        "        # self.group_norm = tfa.layers.GroupNormalization (groups = 16)\n",
        "        self.conv2 = tf.keras.layers.Conv2D(filters = channel_2, kernel_size = (5,5), strides = (1,1),\n",
        "                                          activation='relu',padding='valid',kernel_initializer=initializer)\n",
        "        self.bn2 = tf.keras.layers.BatchNormalization()\n",
        "        self.drop_out2 = tf.keras.layers.Dropout(rate = 0.2)\n",
        "        self.max_pool2 = tf.keras.layers.MaxPool2D(pool_size=(2, 2))\n",
        "        # self.conv3 = tf.keras.layers.Conv2D(filters = channel_3, kernel_size = (5,5), strides = (1,1),\n",
        "        #                                 activation='relu',padding='valid',kernel_initializer=initializer)\n",
        "        # self.bn3 = tf.keras.layers.BatchNormalization()\n",
        "        # self.max_pool3 = tf.keras.layers.MaxPool2D(pool_size=(2, 2))\n",
        "        # self.drop_out3 = tf.keras.layers.Dropout(rate = 0.5)\n",
        "        self.fc = tf.keras.layers.Dense(num_classes,kernel_initializer=initializer)\n",
        "        self.flatten = tf.keras.layers.Flatten()\n",
        "        # self.global_avg = tf.keras.layers.GlobalAveragePooling2D()\n",
        "        self.softmax = tf.keras.layers.Softmax()   \n",
        "\n",
        "\n",
        "    def call(self, input_tensor, training=False):\n",
        "        ############################################################################\n",
        "        # TODO: Construct a model that performs well on CIFAR-10                   #\n",
        "        ############################################################################\n",
        "       \n",
        "        x = tf.pad(input_tensor, [[0,0], [2,2], [2,2], [0,0]], 'CONSTANT')\n",
        "        x = self.conv1(x)\n",
        "        x = self.bn1(x)\n",
        "        x = self.drop_out1(x)\n",
        "        x = self.max_pool1(x)\n",
        "        x = tf.pad(x, [[0,0], [1,1], [1,1], [0,0]], 'CONSTANT')\n",
        "        x = self.conv2(x)\n",
        "        x = self.bn2(x)\n",
        "        x = self.drop_out2(x)\n",
        "        x = self.max_pool2(x)\n",
        "        # x = tf.pad(x, [[0,0], [1,1], [1,1], [0,0]], 'CONSTANT')\n",
        "        # x = self.conv3(x)\n",
        "        # x = self.bn3(x)\n",
        "        # x = self.drop_out3(x)\n",
        "        # x = self.max_pool3(x)        \n",
        "        x = self.flatten(x)\n",
        "        # x = self.global_avg(x)\n",
        "        x = self.fc(x)\n",
        "        x = self.softmax(x)\n",
        "\n",
        "        return x\n",
        "\n",
        "print_every = 700\n",
        "num_epochs = 10\n",
        "\n",
        "channel_1, channel_2, num_classes = 32, 16,10\n",
        "\n",
        "def model_init_fn():\n",
        "    mode = None\n",
        "    model = CustomConvNet(channel_1, channel_2, num_classes)\n",
        "    return model\n",
        "\n",
        "def optimizer_init_fn():\n",
        "    learning_rate = 1e-3\n",
        "    return tf.keras.optimizers.Adam(learning_rate) \n"
      ],
      "metadata": {
        "id": "CREcXpZnDp8G"
      },
      "execution_count": null,
      "outputs": []
    },
    {
      "cell_type": "markdown",
      "source": [
        "**Results: Loss and accuracy**"
      ],
      "metadata": {
        "id": "BasWS5vQSszb"
      }
    },
    {
      "cell_type": "code",
      "source": [
        "model = model_init_fn()\n",
        "model.compile(tf.keras.optimizers.Adam(learning_rate=1e-3),\n",
        "              loss='sparse_categorical_crossentropy',\n",
        "              metrics=[tf.keras.metrics.sparse_categorical_accuracy])\n",
        "model.fit(X_train, y_train, batch_size= 50, epochs=5, validation_data= (X_val, y_val))\n",
        "model.evaluate(X_test, y_test)"
      ],
      "metadata": {
        "colab": {
          "base_uri": "https://localhost:8080/"
        },
        "id": "Y18flpB770JE",
        "outputId": "1d55c441-6520-460a-f31e-b323bb2a450d"
      },
      "execution_count": null,
      "outputs": [
        {
          "output_type": "stream",
          "name": "stdout",
          "text": [
            "Epoch 1/5\n",
            "1180/1180 [==============================] - 10s 8ms/step - loss: 0.1793 - sparse_categorical_accuracy: 0.9438 - val_loss: 0.0861 - val_sparse_categorical_accuracy: 0.9800\n",
            "Epoch 2/5\n",
            "1180/1180 [==============================] - 9s 7ms/step - loss: 0.0608 - sparse_categorical_accuracy: 0.9807 - val_loss: 0.0719 - val_sparse_categorical_accuracy: 0.9880\n",
            "Epoch 3/5\n",
            "1180/1180 [==============================] - 8s 7ms/step - loss: 0.0464 - sparse_categorical_accuracy: 0.9851 - val_loss: 0.0561 - val_sparse_categorical_accuracy: 0.9910\n",
            "Epoch 4/5\n",
            "1180/1180 [==============================] - 8s 7ms/step - loss: 0.0390 - sparse_categorical_accuracy: 0.9873 - val_loss: 0.0487 - val_sparse_categorical_accuracy: 0.9920\n",
            "Epoch 5/5\n",
            "1180/1180 [==============================] - 8s 7ms/step - loss: 0.0341 - sparse_categorical_accuracy: 0.9890 - val_loss: 0.0499 - val_sparse_categorical_accuracy: 0.9930\n",
            "313/313 [==============================] - 2s 5ms/step - loss: 0.0339 - sparse_categorical_accuracy: 0.9900\n"
          ]
        },
        {
          "output_type": "execute_result",
          "data": {
            "text/plain": [
              "[0.03392622619867325, 0.9900000095367432]"
            ]
          },
          "metadata": {},
          "execution_count": 9
        }
      ]
    }
  ]
}